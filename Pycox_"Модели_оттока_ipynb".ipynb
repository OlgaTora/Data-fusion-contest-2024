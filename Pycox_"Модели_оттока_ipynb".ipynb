{
  "cells": [
    {
      "cell_type": "code",
      "execution_count": 28,
      "metadata": {
        "id": "CfGkDrC_mP8Y",
        "colab": {
          "base_uri": "https://localhost:8080/"
        },
        "outputId": "2216daad-ef44-42a1-d23f-baedc4d989a2"
      },
      "outputs": [
        {
          "output_type": "stream",
          "name": "stdout",
          "text": [
            "Requirement already satisfied: pycox in /usr/local/lib/python3.10/dist-packages (0.2.3)\n",
            "Requirement already satisfied: torchtuples>=0.2.0 in /usr/local/lib/python3.10/dist-packages (from pycox) (0.2.2)\n",
            "Requirement already satisfied: feather-format>=0.4.0 in /usr/local/lib/python3.10/dist-packages (from pycox) (0.4.1)\n",
            "Requirement already satisfied: h5py>=2.9.0 in /usr/local/lib/python3.10/dist-packages (from pycox) (3.9.0)\n",
            "Requirement already satisfied: numba>=0.44 in /usr/local/lib/python3.10/dist-packages (from pycox) (0.58.1)\n",
            "Requirement already satisfied: scikit-learn>=0.21.2 in /usr/local/lib/python3.10/dist-packages (from pycox) (1.2.2)\n",
            "Requirement already satisfied: requests>=2.22.0 in /usr/local/lib/python3.10/dist-packages (from pycox) (2.31.0)\n",
            "Requirement already satisfied: py7zr>=0.11.3 in /usr/local/lib/python3.10/dist-packages (from pycox) (0.21.0)\n",
            "Requirement already satisfied: pyarrow>=0.4.0 in /usr/local/lib/python3.10/dist-packages (from feather-format>=0.4.0->pycox) (14.0.2)\n",
            "Requirement already satisfied: numpy>=1.17.3 in /usr/local/lib/python3.10/dist-packages (from h5py>=2.9.0->pycox) (1.25.2)\n",
            "Requirement already satisfied: llvmlite<0.42,>=0.41.0dev0 in /usr/local/lib/python3.10/dist-packages (from numba>=0.44->pycox) (0.41.1)\n",
            "Requirement already satisfied: texttable in /usr/local/lib/python3.10/dist-packages (from py7zr>=0.11.3->pycox) (1.7.0)\n",
            "Requirement already satisfied: pycryptodomex>=3.16.0 in /usr/local/lib/python3.10/dist-packages (from py7zr>=0.11.3->pycox) (3.20.0)\n",
            "Requirement already satisfied: pyzstd>=0.15.9 in /usr/local/lib/python3.10/dist-packages (from py7zr>=0.11.3->pycox) (0.15.10)\n",
            "Requirement already satisfied: pyppmd<1.2.0,>=1.1.0 in /usr/local/lib/python3.10/dist-packages (from py7zr>=0.11.3->pycox) (1.1.0)\n",
            "Requirement already satisfied: pybcj<1.1.0,>=1.0.0 in /usr/local/lib/python3.10/dist-packages (from py7zr>=0.11.3->pycox) (1.0.2)\n",
            "Requirement already satisfied: multivolumefile>=0.2.3 in /usr/local/lib/python3.10/dist-packages (from py7zr>=0.11.3->pycox) (0.2.3)\n",
            "Requirement already satisfied: inflate64<1.1.0,>=1.0.0 in /usr/local/lib/python3.10/dist-packages (from py7zr>=0.11.3->pycox) (1.0.0)\n",
            "Requirement already satisfied: brotli>=1.1.0 in /usr/local/lib/python3.10/dist-packages (from py7zr>=0.11.3->pycox) (1.1.0)\n",
            "Requirement already satisfied: psutil in /usr/local/lib/python3.10/dist-packages (from py7zr>=0.11.3->pycox) (5.9.5)\n",
            "Requirement already satisfied: charset-normalizer<4,>=2 in /usr/local/lib/python3.10/dist-packages (from requests>=2.22.0->pycox) (3.3.2)\n",
            "Requirement already satisfied: idna<4,>=2.5 in /usr/local/lib/python3.10/dist-packages (from requests>=2.22.0->pycox) (3.6)\n",
            "Requirement already satisfied: urllib3<3,>=1.21.1 in /usr/local/lib/python3.10/dist-packages (from requests>=2.22.0->pycox) (2.0.7)\n",
            "Requirement already satisfied: certifi>=2017.4.17 in /usr/local/lib/python3.10/dist-packages (from requests>=2.22.0->pycox) (2024.2.2)\n",
            "Requirement already satisfied: scipy>=1.3.2 in /usr/local/lib/python3.10/dist-packages (from scikit-learn>=0.21.2->pycox) (1.11.4)\n",
            "Requirement already satisfied: joblib>=1.1.1 in /usr/local/lib/python3.10/dist-packages (from scikit-learn>=0.21.2->pycox) (1.3.2)\n",
            "Requirement already satisfied: threadpoolctl>=2.0.0 in /usr/local/lib/python3.10/dist-packages (from scikit-learn>=0.21.2->pycox) (3.4.0)\n",
            "Requirement already satisfied: pandas>=0.24.2 in /usr/local/lib/python3.10/dist-packages (from torchtuples>=0.2.0->pycox) (1.5.3)\n",
            "Requirement already satisfied: matplotlib>=3.0.3 in /usr/local/lib/python3.10/dist-packages (from torchtuples>=0.2.0->pycox) (3.7.1)\n",
            "Requirement already satisfied: contourpy>=1.0.1 in /usr/local/lib/python3.10/dist-packages (from matplotlib>=3.0.3->torchtuples>=0.2.0->pycox) (1.2.0)\n",
            "Requirement already satisfied: cycler>=0.10 in /usr/local/lib/python3.10/dist-packages (from matplotlib>=3.0.3->torchtuples>=0.2.0->pycox) (0.12.1)\n",
            "Requirement already satisfied: fonttools>=4.22.0 in /usr/local/lib/python3.10/dist-packages (from matplotlib>=3.0.3->torchtuples>=0.2.0->pycox) (4.50.0)\n",
            "Requirement already satisfied: kiwisolver>=1.0.1 in /usr/local/lib/python3.10/dist-packages (from matplotlib>=3.0.3->torchtuples>=0.2.0->pycox) (1.4.5)\n",
            "Requirement already satisfied: packaging>=20.0 in /usr/local/lib/python3.10/dist-packages (from matplotlib>=3.0.3->torchtuples>=0.2.0->pycox) (24.0)\n",
            "Requirement already satisfied: pillow>=6.2.0 in /usr/local/lib/python3.10/dist-packages (from matplotlib>=3.0.3->torchtuples>=0.2.0->pycox) (9.4.0)\n",
            "Requirement already satisfied: pyparsing>=2.3.1 in /usr/local/lib/python3.10/dist-packages (from matplotlib>=3.0.3->torchtuples>=0.2.0->pycox) (3.1.2)\n",
            "Requirement already satisfied: python-dateutil>=2.7 in /usr/local/lib/python3.10/dist-packages (from matplotlib>=3.0.3->torchtuples>=0.2.0->pycox) (2.8.2)\n",
            "Requirement already satisfied: pytz>=2020.1 in /usr/local/lib/python3.10/dist-packages (from pandas>=0.24.2->torchtuples>=0.2.0->pycox) (2023.4)\n",
            "Requirement already satisfied: six>=1.5 in /usr/local/lib/python3.10/dist-packages (from python-dateutil>=2.7->matplotlib>=3.0.3->torchtuples>=0.2.0->pycox) (1.16.0)\n"
          ]
        }
      ],
      "source": [
        "! pip install pycox"
      ]
    },
    {
      "cell_type": "code",
      "source": [
        "# !pip install pandas==1.5.3"
      ],
      "metadata": {
        "id": "rdh6HuWXWHvY"
      },
      "execution_count": 29,
      "outputs": []
    },
    {
      "cell_type": "code",
      "source": [
        "import pandas as pd\n",
        "import numpy as np\n",
        "from sklearn.model_selection import train_test_split"
      ],
      "metadata": {
        "id": "tzOoEupZUNqL"
      },
      "execution_count": 30,
      "outputs": []
    },
    {
      "cell_type": "code",
      "execution_count": 31,
      "metadata": {
        "colab": {
          "base_uri": "https://localhost:8080/"
        },
        "id": "wKf2Y4WVQMBM",
        "outputId": "571ea692-1c7d-45da-adb1-a88322584fd7"
      },
      "outputs": [
        {
          "output_type": "stream",
          "name": "stdout",
          "text": [
            "Drive already mounted at /content/drive; to attempt to forcibly remount, call drive.mount(\"/content/drive\", force_remount=True).\n"
          ]
        }
      ],
      "source": [
        "from google.colab import drive\n",
        "drive.mount('/content/drive')"
      ]
    },
    {
      "cell_type": "code",
      "execution_count": 32,
      "metadata": {
        "id": "FFIxWhDcjmi3"
      },
      "outputs": [],
      "source": [
        "df = pd.read_csv('/content/drive/MyDrive/datasets/ottok//df.csv')"
      ]
    },
    {
      "cell_type": "code",
      "source": [
        "from sklearn.preprocessing import StandardScaler, LabelEncoder\n",
        "from sklearn_pandas import DataFrameMapper\n",
        "\n",
        "import torch\n",
        "import torchtuples as tt\n",
        "\n",
        "\n",
        "from pycox.datasets import metabric\n",
        "from pycox.models import LogisticHazard\n",
        "from pycox.models import PMF\n",
        "from pycox.models import DeepHitSingle\n",
        "from pycox.evaluation import EvalSurv\n",
        "from pycox.models import CoxTime\n",
        "from pycox.models.cox_time import MLPVanillaCoxTime\n",
        "from pycox.evaluation import EvalSurv"
      ],
      "metadata": {
        "id": "_3e-txohNegR"
      },
      "execution_count": 33,
      "outputs": []
    },
    {
      "cell_type": "code",
      "source": [
        "df['employee_count_nm'] = df['employee_count_nm'].fillna('0')\n",
        "encoder = LabelEncoder()\n",
        "encoder = encoder.fit(df['employee_count_nm'])\n",
        "df['employee_count_nm'] = encoder.transform(df['employee_count_nm'])"
      ],
      "metadata": {
        "id": "n54HMWl_OhvM"
      },
      "execution_count": 34,
      "outputs": []
    },
    {
      "cell_type": "code",
      "source": [
        "df = df.fillna(0)"
      ],
      "metadata": {
        "id": "DAR_dXnqWytD"
      },
      "execution_count": 35,
      "outputs": []
    },
    {
      "cell_type": "code",
      "source": [
        "df['target'] = df['target'].astype('float32')"
      ],
      "metadata": {
        "id": "cnspGPAHXJmx"
      },
      "execution_count": 36,
      "outputs": []
    },
    {
      "cell_type": "code",
      "source": [
        "y = df[['target', 'time']]\n",
        "X = df.drop(columns= ['target', 'time'])"
      ],
      "metadata": {
        "id": "soxapOb2fgBq"
      },
      "execution_count": 37,
      "outputs": []
    },
    {
      "cell_type": "code",
      "source": [
        "X_train, X_test, y_train, y_test = train_test_split(X, y, test_size=0.2, random_state=1234)"
      ],
      "metadata": {
        "id": "AH3VONgINdxi"
      },
      "execution_count": 173,
      "outputs": []
    },
    {
      "cell_type": "code",
      "source": [
        "X_train, X_val, y_train, y_val = train_test_split(X_train, y_train, test_size=0.2, random_state=1234)"
      ],
      "metadata": {
        "id": "60gvzKKoZXTr"
      },
      "execution_count": 174,
      "outputs": []
    },
    {
      "cell_type": "code",
      "source": [
        "X.columns"
      ],
      "metadata": {
        "colab": {
          "base_uri": "https://localhost:8080/"
        },
        "id": "BTCZYbFe8ABn",
        "outputId": "04b9919e-d8a7-4470-ab75-e935ccc06d7c"
      },
      "execution_count": 96,
      "outputs": [
        {
          "output_type": "execute_result",
          "data": {
            "text/plain": [
              "Index(['report', 'employee_count_nm', 'bankemplstatus', 'customer_age',\n",
              "       'more_operations_out', 'operation_time_00_12', 'freq_mcc',\n",
              "       'freq_currency', 'freq_weekday', 'freq_day', 'last_operation_summ',\n",
              "       'last_operation_type', 'diff_report_transaction', 'last_mcc',\n",
              "       'RFMScore', 'total_amount_in', 'total_amount_out'],\n",
              "      dtype='object')"
            ]
          },
          "metadata": {},
          "execution_count": 96
        }
      ]
    },
    {
      "cell_type": "code",
      "source": [
        "cols_standardize = ['employee_count_nm', 'customer_age','more_operations_out',\n",
        "                    'operation_time_00_12', 'freq_mcc', 'freq_currency', 'freq_weekday',\n",
        "                    'freq_day', 'last_operation_summ', 'last_operation_type', 'diff_report_transaction',\n",
        "                    'last_mcc', 'RFMScore', 'total_amount_in', 'total_amount_out']\n",
        "cols_leave = ['report', 'bankemplstatus']\n",
        "\n",
        "standardize = [([col], StandardScaler()) for col in cols_standardize]\n",
        "leave = [(col, None) for col in cols_leave]\n",
        "\n",
        "x_mapper = DataFrameMapper(standardize + leave)"
      ],
      "metadata": {
        "id": "cJkMkUa8OFFd"
      },
      "execution_count": 175,
      "outputs": []
    },
    {
      "cell_type": "code",
      "source": [
        "x_train = x_mapper.fit_transform(X_train).astype('float32')\n",
        "x_val = x_mapper.transform(X_val).astype('float32')\n",
        "x_test = x_mapper.transform(X_test).astype('float32')"
      ],
      "metadata": {
        "id": "cTn7NFxsPD9A"
      },
      "execution_count": 176,
      "outputs": []
    },
    {
      "cell_type": "code",
      "source": [
        "num_durations = 30\n",
        "labtrans = PMF.label_transform(num_durations)\n",
        "# labtrans = LogisticHazard.label_transform(num_durations)"
      ],
      "metadata": {
        "id": "zyHwWgSmee_W"
      },
      "execution_count": 177,
      "outputs": []
    },
    {
      "cell_type": "code",
      "execution_count": 178,
      "metadata": {
        "id": "_30-DaiCYX5O"
      },
      "outputs": [],
      "source": [
        "get_target = lambda df: (df['time'].values, df['target'].values)\n",
        "y_train = labtrans.fit_transform(*get_target(y_train))\n",
        "y_val = labtrans.transform(*get_target(y_val))\n",
        "\n",
        "train = (x_train, y_train)\n",
        "val = (x_val, y_val)\n",
        "durations_test, events_test = get_target(y_test)\n",
        "\n",
        "# val = tt.tuplefy(x_val, y_val)"
      ]
    },
    {
      "cell_type": "code",
      "source": [
        "in_features = x_train.shape[1]\n",
        "num_nodes = [32, 32]\n",
        "out_features = labtrans.out_features\n",
        "batch_norm = True\n",
        "dropout = 0.05\n",
        "net = tt.practical.MLPVanilla(in_features, num_nodes, out_features, batch_norm, dropout)"
      ],
      "metadata": {
        "id": "4sVvOUfsPcaT"
      },
      "execution_count": 226,
      "outputs": []
    },
    {
      "cell_type": "code",
      "source": [
        "model = PMF(net, tt.optim.Adam(0.05), duration_index=labtrans.cuts)"
      ],
      "metadata": {
        "id": "oUSmwloSPfqW"
      },
      "execution_count": 227,
      "outputs": []
    },
    {
      "cell_type": "code",
      "source": [
        "batch_size = 128\n",
        "val_batch_size = 128\n",
        "epochs = 100\n",
        "callbacks = [tt.cb.EarlyStopping()]\n",
        "verbose = True"
      ],
      "metadata": {
        "id": "0byMj0GqqTLz"
      },
      "execution_count": 228,
      "outputs": []
    },
    {
      "cell_type": "code",
      "source": [
        "log = model.fit(x_train, y_train, batch_size, epochs, callbacks, val_data=val)"
      ],
      "metadata": {
        "colab": {
          "base_uri": "https://localhost:8080/"
        },
        "id": "XfgZT8qBcxFT",
        "outputId": "30772960-e477-4ccc-a77a-50561063ff43"
      },
      "execution_count": 229,
      "outputs": [
        {
          "output_type": "stream",
          "name": "stdout",
          "text": [
            "0:\t[0s / 0s],\t\ttrain_loss: 0.6132,\tval_loss: 0.5724\n",
            "1:\t[0s / 1s],\t\ttrain_loss: 0.5464,\tval_loss: 0.5673\n",
            "2:\t[0s / 2s],\t\ttrain_loss: 0.5465,\tval_loss: 0.5642\n",
            "3:\t[0s / 3s],\t\ttrain_loss: 0.5414,\tval_loss: 0.5721\n",
            "4:\t[0s / 3s],\t\ttrain_loss: 0.5418,\tval_loss: 0.5652\n",
            "5:\t[0s / 4s],\t\ttrain_loss: 0.5381,\tval_loss: 0.5704\n",
            "6:\t[0s / 4s],\t\ttrain_loss: 0.5373,\tval_loss: 0.5614\n",
            "7:\t[0s / 5s],\t\ttrain_loss: 0.5356,\tval_loss: 0.5631\n",
            "8:\t[0s / 6s],\t\ttrain_loss: 0.5355,\tval_loss: 0.5662\n",
            "9:\t[0s / 6s],\t\ttrain_loss: 0.5357,\tval_loss: 0.5643\n",
            "10:\t[0s / 7s],\t\ttrain_loss: 0.5340,\tval_loss: 0.5616\n",
            "11:\t[0s / 7s],\t\ttrain_loss: 0.5324,\tval_loss: 0.5674\n",
            "12:\t[0s / 8s],\t\ttrain_loss: 0.5351,\tval_loss: 0.5646\n",
            "13:\t[0s / 9s],\t\ttrain_loss: 0.5324,\tval_loss: 0.5728\n",
            "14:\t[0s / 9s],\t\ttrain_loss: 0.5320,\tval_loss: 0.5773\n",
            "15:\t[0s / 10s],\t\ttrain_loss: 0.5326,\tval_loss: 0.5723\n",
            "16:\t[0s / 11s],\t\ttrain_loss: 0.5338,\tval_loss: 0.5811\n"
          ]
        }
      ]
    },
    {
      "cell_type": "code",
      "source": [
        "_ = log.plot()"
      ],
      "metadata": {
        "colab": {
          "base_uri": "https://localhost:8080/",
          "height": 430
        },
        "id": "7pRUe1lTtxso",
        "outputId": "e26ed42e-3261-4cdc-b387-0978e43f375b"
      },
      "execution_count": 183,
      "outputs": [
        {
          "output_type": "display_data",
          "data": {
            "text/plain": [
              "<Figure size 640x480 with 1 Axes>"
            ],
            "image/png": "[encoded data removed]"
          },
          "metadata": {}
        }
      ]
    },
    {
      "cell_type": "code",
      "source": [
        "surv = model.interpolate(10).predict_surv_df(x_test)"
      ],
      "metadata": {
        "id": "dMmrOLjiql85"
      },
      "execution_count": 230,
      "outputs": []
    },
    {
      "cell_type": "code",
      "source": [
        "ev = EvalSurv(surv, durations_test, events_test, censor_surv='km')"
      ],
      "metadata": {
        "id": "cRWrs6B_PjbF",
        "colab": {
          "base_uri": "https://localhost:8080/"
        },
        "outputId": "5628c8a3-0d3e-402b-c75c-c3ccbeab528a"
      },
      "execution_count": 231,
      "outputs": [
        {
          "output_type": "stream",
          "name": "stderr",
          "text": [
            "/usr/local/lib/python3.10/dist-packages/pycox/evaluation/eval_surv.py:36: FutureWarning: is_monotonic is deprecated and will be removed in a future version. Use is_monotonic_increasing instead.\n",
            "  assert pd.Series(self.index_surv).is_monotonic\n"
          ]
        }
      ]
    },
    {
      "cell_type": "code",
      "source": [
        "ev.concordance_td('antolini')"
      ],
      "metadata": {
        "colab": {
          "base_uri": "https://localhost:8080/"
        },
        "id": "lkd8M2PuqhMe",
        "outputId": "161b59bb-74cf-4ae8-bbc0-ae7f84668c2a"
      },
      "execution_count": 232,
      "outputs": [
        {
          "output_type": "execute_result",
          "data": {
            "text/plain": [
              "0.7043139756715265"
            ]
          },
          "metadata": {},
          "execution_count": 232
        }
      ]
    }
  ],
  "metadata": {
    "colab": {
      "provenance": [],
      "mount_file_id": "1yRUxKOFavM5j9bHhnIP4qsJBB6glEqAo",
      "authorship_tag": "ABX9TyPs+cL1WTDbCX3zV3XkHpBU"
    },
    "kernelspec": {
      "display_name": "Python 3",
      "name": "python3"
    },
    "language_info": {
      "name": "python"
    }
  },
  "nbformat": 4,
  "nbformat_minor": 0
}